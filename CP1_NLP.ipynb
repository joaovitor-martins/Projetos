{
  "nbformat": 4,
  "nbformat_minor": 0,
  "metadata": {
    "colab": {
      "provenance": []
    },
    "kernelspec": {
      "name": "python3",
      "display_name": "Python 3"
    },
    "language_info": {
      "name": "python"
    }
  },
  "cells": [
    {
      "cell_type": "markdown",
      "source": [
        "**Aluno:** João Vitor de Andrade Martins\n",
        "\n",
        "**RM:** 98744"
      ],
      "metadata": {
        "id": "6P7xvrhMxsmi"
      }
    },
    {
      "cell_type": "code",
      "source": [
        "# Dicionários de palavras\n",
        "palavras_positivas = [\"feliz\", \"bom\", \"alegre\", \"ótimo\", \"positivo\"]\n",
        "palavras_negativas = [\"triste\", \"ruim\", \"deprimido\", \"horrível\", \"negativo\"]\n",
        "\n",
        "def adicionar_palavra(palavra, lista):\n",
        "    lista.append(palavra.lower())  # Convertendo para minúsculas ao adicionar\n",
        "\n",
        "def analise_sentimento(frase, palavras_positivas, palavras_negativas):\n",
        "    # Separando por palavra\n",
        "    palavras = frase.split()\n",
        "\n",
        "    # Conta qtd de palavras positivas e negativas com base no dicionario\n",
        "    contagem_positivas = sum(palavra in palavras_positivas for palavra in palavras)\n",
        "    contagem_negativas = sum(palavra in palavras_negativas for palavra in palavras)\n",
        "\n",
        "    if contagem_positivas > contagem_negativas:     # Frase positiva -> Mais palavras positivas\n",
        "        return \"Positivo\"\n",
        "    elif contagem_negativas > contagem_positivas:   # Frase negativa -> Mais palavras negativas\n",
        "        return \"Negativo\"\n",
        "    else:   # Frase neutra -> Sem palavras positivas e negativas\n",
        "        return \"Neutro\"\n",
        "\n",
        "# Menu\n",
        "while True:\n",
        "    print(\"\\nMenu:\")\n",
        "    print(\"1. Analisar frase\")\n",
        "    print(\"2. Adicionar palavra\")\n",
        "    print(\"3. Sair\")\n",
        "\n",
        "    opcao = input(\"Escolha uma opção: \")\n",
        "\n",
        "    if opcao == \"1\":\n",
        "        frase = input(\"Digite uma frase para análise de sentimento: \").lower()  # Convertendo para minúsculas as palavras da frase\n",
        "        sentimento = analise_sentimento(frase, palavras_positivas, palavras_negativas)\n",
        "        print(\"Sentimento:\", sentimento)\n",
        "    elif opcao == \"2\":\n",
        "        opcao_adicao = input(\"Escolha o dicionário para adicionar a palavra:\\n1. Positivo\\n2. Negativo\\nEscolha uma opção: \")\n",
        "        if opcao_adicao == \"1\":\n",
        "            palavra = input(\"Digite a palavra positiva que deseja adicionar: \").lower() # Convertendo para minúsculas as palavras nova\n",
        "            adicionar_palavra(palavra, palavras_positivas)\n",
        "        elif opcao_adicao == \"2\":\n",
        "            palavra = input(\"Digite a palavra negativa que deseja adicionar: \").lower() # Convertendo para minúsculas as palavras nova\n",
        "            adicionar_palavra(palavra, palavras_negativas)\n",
        "        else:\n",
        "            print(\"Opção inválida!\")\n",
        "    elif opcao == \"3\":\n",
        "        print(\"Encerrando o programa...\")\n",
        "        break\n",
        "    else:\n",
        "        print(\"Opção inválida!\")\n"
      ],
      "metadata": {
        "colab": {
          "base_uri": "https://localhost:8080/",
          "height": 462
        },
        "id": "KH_YnyrGnvEN",
        "outputId": "61366367-f5b9-43d9-da19-3e804dcfc067"
      },
      "execution_count": 7,
      "outputs": [
        {
          "output_type": "stream",
          "name": "stdout",
          "text": [
            "\n",
            "Menu:\n",
            "1. Analisar frase\n",
            "2. Adicionar palavra\n",
            "3. Sair\n"
          ]
        },
        {
          "output_type": "error",
          "ename": "KeyboardInterrupt",
          "evalue": "Interrupted by user",
          "traceback": [
            "\u001b[0;31m---------------------------------------------------------------------------\u001b[0m",
            "\u001b[0;31mKeyboardInterrupt\u001b[0m                         Traceback (most recent call last)",
            "\u001b[0;32m<ipython-input-7-11a6ed46cf5b>\u001b[0m in \u001b[0;36m<cell line: 24>\u001b[0;34m()\u001b[0m\n\u001b[1;32m     28\u001b[0m     \u001b[0mprint\u001b[0m\u001b[0;34m(\u001b[0m\u001b[0;34m\"3. Sair\"\u001b[0m\u001b[0;34m)\u001b[0m\u001b[0;34m\u001b[0m\u001b[0;34m\u001b[0m\u001b[0m\n\u001b[1;32m     29\u001b[0m \u001b[0;34m\u001b[0m\u001b[0m\n\u001b[0;32m---> 30\u001b[0;31m     \u001b[0mopcao\u001b[0m \u001b[0;34m=\u001b[0m \u001b[0minput\u001b[0m\u001b[0;34m(\u001b[0m\u001b[0;34m\"Escolha uma opção: \"\u001b[0m\u001b[0;34m)\u001b[0m\u001b[0;34m\u001b[0m\u001b[0;34m\u001b[0m\u001b[0m\n\u001b[0m\u001b[1;32m     31\u001b[0m \u001b[0;34m\u001b[0m\u001b[0m\n\u001b[1;32m     32\u001b[0m     \u001b[0;32mif\u001b[0m \u001b[0mopcao\u001b[0m \u001b[0;34m==\u001b[0m \u001b[0;34m\"1\"\u001b[0m\u001b[0;34m:\u001b[0m\u001b[0;34m\u001b[0m\u001b[0;34m\u001b[0m\u001b[0m\n",
            "\u001b[0;32m/usr/local/lib/python3.10/dist-packages/ipykernel/kernelbase.py\u001b[0m in \u001b[0;36mraw_input\u001b[0;34m(self, prompt)\u001b[0m\n\u001b[1;32m    849\u001b[0m                 \u001b[0;34m\"raw_input was called, but this frontend does not support input requests.\"\u001b[0m\u001b[0;34m\u001b[0m\u001b[0;34m\u001b[0m\u001b[0m\n\u001b[1;32m    850\u001b[0m             )\n\u001b[0;32m--> 851\u001b[0;31m         return self._input_request(str(prompt),\n\u001b[0m\u001b[1;32m    852\u001b[0m             \u001b[0mself\u001b[0m\u001b[0;34m.\u001b[0m\u001b[0m_parent_ident\u001b[0m\u001b[0;34m,\u001b[0m\u001b[0;34m\u001b[0m\u001b[0;34m\u001b[0m\u001b[0m\n\u001b[1;32m    853\u001b[0m             \u001b[0mself\u001b[0m\u001b[0;34m.\u001b[0m\u001b[0m_parent_header\u001b[0m\u001b[0;34m,\u001b[0m\u001b[0;34m\u001b[0m\u001b[0;34m\u001b[0m\u001b[0m\n",
            "\u001b[0;32m/usr/local/lib/python3.10/dist-packages/ipykernel/kernelbase.py\u001b[0m in \u001b[0;36m_input_request\u001b[0;34m(self, prompt, ident, parent, password)\u001b[0m\n\u001b[1;32m    893\u001b[0m             \u001b[0;32mexcept\u001b[0m \u001b[0mKeyboardInterrupt\u001b[0m\u001b[0;34m:\u001b[0m\u001b[0;34m\u001b[0m\u001b[0;34m\u001b[0m\u001b[0m\n\u001b[1;32m    894\u001b[0m                 \u001b[0;31m# re-raise KeyboardInterrupt, to truncate traceback\u001b[0m\u001b[0;34m\u001b[0m\u001b[0;34m\u001b[0m\u001b[0m\n\u001b[0;32m--> 895\u001b[0;31m                 \u001b[0;32mraise\u001b[0m \u001b[0mKeyboardInterrupt\u001b[0m\u001b[0;34m(\u001b[0m\u001b[0;34m\"Interrupted by user\"\u001b[0m\u001b[0;34m)\u001b[0m \u001b[0;32mfrom\u001b[0m \u001b[0;32mNone\u001b[0m\u001b[0;34m\u001b[0m\u001b[0;34m\u001b[0m\u001b[0m\n\u001b[0m\u001b[1;32m    896\u001b[0m             \u001b[0;32mexcept\u001b[0m \u001b[0mException\u001b[0m \u001b[0;32mas\u001b[0m \u001b[0me\u001b[0m\u001b[0;34m:\u001b[0m\u001b[0;34m\u001b[0m\u001b[0;34m\u001b[0m\u001b[0m\n\u001b[1;32m    897\u001b[0m                 \u001b[0mself\u001b[0m\u001b[0;34m.\u001b[0m\u001b[0mlog\u001b[0m\u001b[0;34m.\u001b[0m\u001b[0mwarning\u001b[0m\u001b[0;34m(\u001b[0m\u001b[0;34m\"Invalid Message:\"\u001b[0m\u001b[0;34m,\u001b[0m \u001b[0mexc_info\u001b[0m\u001b[0;34m=\u001b[0m\u001b[0;32mTrue\u001b[0m\u001b[0;34m)\u001b[0m\u001b[0;34m\u001b[0m\u001b[0;34m\u001b[0m\u001b[0m\n",
            "\u001b[0;31mKeyboardInterrupt\u001b[0m: Interrupted by user"
          ]
        }
      ]
    },
    {
      "cell_type": "code",
      "source": [],
      "metadata": {
        "id": "4wTKEoV2ve3j"
      },
      "execution_count": null,
      "outputs": []
    }
  ]
}